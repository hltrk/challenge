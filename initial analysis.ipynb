{
 "cells": [
  {
   "cell_type": "code",
   "execution_count": 2,
   "id": "67939d67",
   "metadata": {},
   "outputs": [
    {
     "name": "stderr",
     "output_type": "stream",
     "text": [
      "/var/folders/04/dmlh4lh54kb291p4dlq3fhfm0000gn/T/ipykernel_99529/2273127146.py:2: DtypeWarning: Columns (4) have mixed types. Specify dtype option on import or set low_memory=False.\n",
      "  df= pd.read_csv('dataset.csv')\n"
     ]
    }
   ],
   "source": [
    "import pandas as pd\n",
    "df= pd.read_csv('dataset.csv')"
   ]
  },
  {
   "cell_type": "markdown",
   "id": "84e202d2",
   "metadata": {},
   "source": [
    "I made inital quick analysis with pandas profiling"
   ]
  },
  {
   "cell_type": "code",
   "execution_count": 3,
   "id": "09749c1d",
   "metadata": {},
   "outputs": [],
   "source": [
    "df_sample = df.sample(5000)"
   ]
  },
  {
   "cell_type": "code",
   "execution_count": 4,
   "id": "3cafb6f6",
   "metadata": {
    "collapsed": true
   },
   "outputs": [
    {
     "name": "stdout",
     "output_type": "stream",
     "text": [
      "Requirement already satisfied: pandas_profiling in ./opt/anaconda3/lib/python3.9/site-packages (3.6.3)\n",
      "Requirement already satisfied: scipy<1.10,>=1.4.1 in ./opt/anaconda3/lib/python3.9/site-packages (from pandas_profiling) (1.7.3)\n",
      "Requirement already satisfied: multimethod<1.10,>=1.4 in ./opt/anaconda3/lib/python3.9/site-packages (from pandas_profiling) (1.9.1)\n",
      "Requirement already satisfied: requests<2.29,>=2.24.0 in ./opt/anaconda3/lib/python3.9/site-packages (from pandas_profiling) (2.27.1)\n",
      "Requirement already satisfied: jinja2<3.2,>=2.11.1 in ./opt/anaconda3/lib/python3.9/site-packages (from pandas_profiling) (2.11.3)\n",
      "Requirement already satisfied: tqdm<4.65,>=4.48.2 in ./opt/anaconda3/lib/python3.9/site-packages (from pandas_profiling) (4.64.0)\n",
      "Requirement already satisfied: matplotlib<3.7,>=3.2 in ./opt/anaconda3/lib/python3.9/site-packages (from pandas_profiling) (3.5.1)\n",
      "Requirement already satisfied: PyYAML<6.1,>=5.0.0 in ./opt/anaconda3/lib/python3.9/site-packages (from pandas_profiling) (6.0)\n",
      "Requirement already satisfied: pandas!=1.4.0,<1.6,>1.1 in ./opt/anaconda3/lib/python3.9/site-packages (from pandas_profiling) (1.4.2)\n",
      "Requirement already satisfied: pydantic<1.11,>=1.8.1 in ./opt/anaconda3/lib/python3.9/site-packages (from pandas_profiling) (1.10.4)\n",
      "Requirement already satisfied: htmlmin==0.1.12 in ./opt/anaconda3/lib/python3.9/site-packages (from pandas_profiling) (0.1.12)\n",
      "Requirement already satisfied: seaborn<0.13,>=0.10.1 in ./opt/anaconda3/lib/python3.9/site-packages (from pandas_profiling) (0.11.2)\n",
      "Requirement already satisfied: typeguard<2.14,>=2.13.2 in ./opt/anaconda3/lib/python3.9/site-packages (from pandas_profiling) (2.13.3)\n",
      "Requirement already satisfied: statsmodels<0.14,>=0.13.2 in ./opt/anaconda3/lib/python3.9/site-packages (from pandas_profiling) (0.13.2)\n",
      "Requirement already satisfied: phik<0.13,>=0.11.1 in ./opt/anaconda3/lib/python3.9/site-packages (from pandas_profiling) (0.12.3)\n",
      "Requirement already satisfied: visions[type_image_path]==0.7.5 in ./opt/anaconda3/lib/python3.9/site-packages (from pandas_profiling) (0.7.5)\n",
      "Requirement already satisfied: numpy<1.24,>=1.16.0 in ./opt/anaconda3/lib/python3.9/site-packages (from pandas_profiling) (1.21.5)\n",
      "Requirement already satisfied: attrs>=19.3.0 in ./opt/anaconda3/lib/python3.9/site-packages (from visions[type_image_path]==0.7.5->pandas_profiling) (21.4.0)\n",
      "Requirement already satisfied: tangled-up-in-unicode>=0.0.4 in ./opt/anaconda3/lib/python3.9/site-packages (from visions[type_image_path]==0.7.5->pandas_profiling) (0.2.0)\n",
      "Requirement already satisfied: networkx>=2.4 in ./opt/anaconda3/lib/python3.9/site-packages (from visions[type_image_path]==0.7.5->pandas_profiling) (2.7.1)\n",
      "Requirement already satisfied: imagehash in ./opt/anaconda3/lib/python3.9/site-packages (from visions[type_image_path]==0.7.5->pandas_profiling) (4.3.1)\n",
      "Requirement already satisfied: Pillow in ./opt/anaconda3/lib/python3.9/site-packages (from visions[type_image_path]==0.7.5->pandas_profiling) (9.0.1)\n",
      "Requirement already satisfied: MarkupSafe>=0.23 in ./opt/anaconda3/lib/python3.9/site-packages (from jinja2<3.2,>=2.11.1->pandas_profiling) (2.0.1)\n",
      "Requirement already satisfied: kiwisolver>=1.0.1 in ./opt/anaconda3/lib/python3.9/site-packages (from matplotlib<3.7,>=3.2->pandas_profiling) (1.3.2)\n",
      "Requirement already satisfied: pyparsing>=2.2.1 in ./opt/anaconda3/lib/python3.9/site-packages (from matplotlib<3.7,>=3.2->pandas_profiling) (3.0.4)\n",
      "Requirement already satisfied: python-dateutil>=2.7 in ./opt/anaconda3/lib/python3.9/site-packages (from matplotlib<3.7,>=3.2->pandas_profiling) (2.8.2)\n",
      "Requirement already satisfied: packaging>=20.0 in ./opt/anaconda3/lib/python3.9/site-packages (from matplotlib<3.7,>=3.2->pandas_profiling) (21.3)\n",
      "Requirement already satisfied: fonttools>=4.22.0 in ./opt/anaconda3/lib/python3.9/site-packages (from matplotlib<3.7,>=3.2->pandas_profiling) (4.25.0)\n",
      "Requirement already satisfied: cycler>=0.10 in ./opt/anaconda3/lib/python3.9/site-packages (from matplotlib<3.7,>=3.2->pandas_profiling) (0.11.0)\n",
      "Requirement already satisfied: pytz>=2020.1 in ./opt/anaconda3/lib/python3.9/site-packages (from pandas!=1.4.0,<1.6,>1.1->pandas_profiling) (2021.3)\n",
      "Requirement already satisfied: joblib>=0.14.1 in ./opt/anaconda3/lib/python3.9/site-packages (from phik<0.13,>=0.11.1->pandas_profiling) (1.1.0)\n",
      "Requirement already satisfied: typing-extensions>=4.2.0 in ./opt/anaconda3/lib/python3.9/site-packages (from pydantic<1.11,>=1.8.1->pandas_profiling) (4.4.0)\n",
      "Requirement already satisfied: six>=1.5 in ./opt/anaconda3/lib/python3.9/site-packages (from python-dateutil>=2.7->matplotlib<3.7,>=3.2->pandas_profiling) (1.16.0)\n",
      "Requirement already satisfied: certifi>=2017.4.17 in ./opt/anaconda3/lib/python3.9/site-packages (from requests<2.29,>=2.24.0->pandas_profiling) (2021.10.8)\n",
      "Requirement already satisfied: charset-normalizer~=2.0.0 in ./opt/anaconda3/lib/python3.9/site-packages (from requests<2.29,>=2.24.0->pandas_profiling) (2.0.4)\n",
      "Requirement already satisfied: idna<4,>=2.5 in ./opt/anaconda3/lib/python3.9/site-packages (from requests<2.29,>=2.24.0->pandas_profiling) (3.3)\n",
      "Requirement already satisfied: urllib3<1.27,>=1.21.1 in ./opt/anaconda3/lib/python3.9/site-packages (from requests<2.29,>=2.24.0->pandas_profiling) (1.26.9)\n",
      "Requirement already satisfied: patsy>=0.5.2 in ./opt/anaconda3/lib/python3.9/site-packages (from statsmodels<0.14,>=0.13.2->pandas_profiling) (0.5.2)\n",
      "Requirement already satisfied: PyWavelets in ./opt/anaconda3/lib/python3.9/site-packages (from imagehash->visions[type_image_path]==0.7.5->pandas_profiling) (1.3.0)\n"
     ]
    }
   ],
   "source": [
    "!pip install --upgrade pandas_profiling"
   ]
  },
  {
   "cell_type": "code",
   "execution_count": 5,
   "id": "a4de263f",
   "metadata": {},
   "outputs": [
    {
     "data": {
      "application/vnd.jupyter.widget-view+json": {
       "model_id": "50465f2d693c4ad6bc2f17349e690490",
       "version_major": 2,
       "version_minor": 0
      },
      "text/plain": [
       "Summarize dataset:   0%|          | 0/5 [00:00<?, ?it/s]"
      ]
     },
     "metadata": {},
     "output_type": "display_data"
    },
    {
     "data": {
      "application/vnd.jupyter.widget-view+json": {
       "model_id": "9512c9c012114a89b62bb916c5e524e3",
       "version_major": 2,
       "version_minor": 0
      },
      "text/plain": [
       "Generate report structure:   0%|          | 0/1 [00:00<?, ?it/s]"
      ]
     },
     "metadata": {},
     "output_type": "display_data"
    },
    {
     "data": {
      "application/vnd.jupyter.widget-view+json": {
       "model_id": "455a015fa09240c58a58f1718457597e",
       "version_major": 2,
       "version_minor": 0
      },
      "text/plain": [
       "Render HTML:   0%|          | 0/1 [00:00<?, ?it/s]"
      ]
     },
     "metadata": {},
     "output_type": "display_data"
    },
    {
     "data": {
      "application/vnd.jupyter.widget-view+json": {
       "model_id": "14d007d351c0477f9c6548571b75fd59",
       "version_major": 2,
       "version_minor": 0
      },
      "text/plain": [
       "Export report to file:   0%|          | 0/1 [00:00<?, ?it/s]"
      ]
     },
     "metadata": {},
     "output_type": "display_data"
    }
   ],
   "source": [
    "from pandas_profiling import ProfileReport\n",
    "prof = ProfileReport(df_sample)\n",
    "prof.to_file(output_file='output.html')"
   ]
  },
  {
   "cell_type": "code",
   "execution_count": null,
   "id": "56f0c003",
   "metadata": {},
   "outputs": [],
   "source": []
  }
 ],
 "metadata": {
  "kernelspec": {
   "display_name": "Python 3 (ipykernel)",
   "language": "python",
   "name": "python3"
  },
  "language_info": {
   "codemirror_mode": {
    "name": "ipython",
    "version": 3
   },
   "file_extension": ".py",
   "mimetype": "text/x-python",
   "name": "python",
   "nbconvert_exporter": "python",
   "pygments_lexer": "ipython3",
   "version": "3.9.12"
  }
 },
 "nbformat": 4,
 "nbformat_minor": 5
}
